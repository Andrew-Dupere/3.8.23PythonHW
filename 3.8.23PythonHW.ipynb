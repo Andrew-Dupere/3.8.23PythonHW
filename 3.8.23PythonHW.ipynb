{
 "cells": [
  {
   "cell_type": "markdown",
   "id": "29e60d3b",
   "metadata": {},
   "source": [
    "### Exercise #1 <br>\n",
    "<p>Reverse the list below in-place using an in-place algorithm.<br>For extra credit: Reverse the strings at the same time.</p>"
   ]
  },
  {
   "cell_type": "code",
   "execution_count": 1,
   "id": "ec37bd4c",
   "metadata": {},
   "outputs": [],
   "source": [
    "words = ['this' , 'is', 'a', 'sentence', '.']"
   ]
  },
  {
   "cell_type": "code",
   "execution_count": 4,
   "id": "d4003166",
   "metadata": {},
   "outputs": [
    {
     "data": {
      "text/plain": [
       "['.', 'sentence', 'a', 'is', 'this']"
      ]
     },
     "execution_count": 4,
     "metadata": {},
     "output_type": "execute_result"
    }
   ],
   "source": [
    "#loop through the list using left and right indexing and keep swapping\n",
    "#the values until the left index = the right index\n",
    "\n",
    "def Reverse(lst):\n",
    "    left = 0\n",
    "    right = len(lst)-1\n",
    "    \n",
    "    while left < right:\n",
    "        \n",
    "        lst[left], lst[right] = lst[right], lst[left]\n",
    "        \n",
    "        left += 1\n",
    "        right -= 1\n",
    "    \n",
    "    return lst    \n",
    "    \n",
    "Reverse(words)    \n",
    "    "
   ]
  },
  {
   "cell_type": "code",
   "execution_count": null,
   "id": "f2436a5c",
   "metadata": {},
   "outputs": [],
   "source": []
  },
  {
   "cell_type": "markdown",
   "id": "7d600dfa",
   "metadata": {},
   "source": [
    "### Exercise #2 <br>\n",
    "<p>Create a function that counts how many distinct words are in the string below, then outputs a dictionary with the words as the key and the value as the amount of times that word appears in the string. Make sure you implement your own algorithm.\n",
    "    <br>\n",
    "Extra challenge: make this case insesitive and remove punctuation</p>\n",
    "Example Output:<code>{'in': 1, 'computing': 1, 'a': 5, ...}</code>"
   ]
  },
  {
   "cell_type": "code",
   "execution_count": 7,
   "id": "65cd513b",
   "metadata": {},
   "outputs": [],
   "source": [
    "a_text = \"\"\"In computing, a hash table hash map is a data structure which implements an\n",
    "associative array abstract data type, a structure that can map keys to values.\n",
    "A hash table uses a hash function to compute an index into an array of buckets\n",
    "or slots from which the desired value can be found\"\"\"\n",
    "\n",
    "import re\n"
   ]
  },
  {
   "cell_type": "code",
   "execution_count": 40,
   "id": "b47e27e9",
   "metadata": {},
   "outputs": [
    {
     "data": {
      "text/plain": [
       "{'In': 1,\n",
       " 'computing,': 1,\n",
       " 'a': 4,\n",
       " 'hash': 4,\n",
       " 'table': 2,\n",
       " 'map': 2,\n",
       " 'is': 1,\n",
       " 'data': 2,\n",
       " 'structure': 2,\n",
       " 'which': 2,\n",
       " 'implements': 1,\n",
       " 'an': 3,\n",
       " 'associative': 1,\n",
       " 'array': 2,\n",
       " 'abstract': 1,\n",
       " 'type,': 1,\n",
       " 'that': 1,\n",
       " 'can': 2,\n",
       " 'keys': 1,\n",
       " 'to': 2,\n",
       " 'values.': 1,\n",
       " 'A': 1,\n",
       " 'uses': 1,\n",
       " 'function': 1,\n",
       " 'compute': 1,\n",
       " 'index': 1,\n",
       " 'into': 1,\n",
       " 'of': 1,\n",
       " 'buckets': 1,\n",
       " 'or': 1,\n",
       " 'slots': 1,\n",
       " 'from': 1,\n",
       " 'the': 1,\n",
       " 'desired': 1,\n",
       " 'value': 1,\n",
       " 'be': 1,\n",
       " 'found': 1}"
      ]
     },
     "execution_count": 40,
     "metadata": {},
     "output_type": "execute_result"
    }
   ],
   "source": [
    "#loop through each item separated by a space and check if it is equal to any other item\n",
    "#use a counter to keep track of how many times each item appears\n",
    "\n",
    "words = re.findall(r'\\S+',a_text)\n",
    "wordsDict = {}\n",
    "\n",
    "uniquewords = []\n",
    "\n",
    "#find unique words\n",
    "for num in range(0,len(words)):\n",
    "    if words[num] in words and words[num] not in uniquewords:\n",
    "        uniquewords.append(words[num])\n",
    "\n",
    "\n",
    "for word in (uniquewords):\n",
    "    count = 0\n",
    "        \n",
    "    for word2 in words:\n",
    "        \n",
    "        if word == word2:\n",
    "            count += 1\n",
    "            wordsDict[word] = count\n",
    "\n",
    "        \n",
    "        \n",
    "        \n",
    "\n",
    "wordsDict"
   ]
  },
  {
   "cell_type": "markdown",
   "id": "bd7506a7",
   "metadata": {},
   "source": [
    "## Exercise #3\n",
    "\n",
    "Write a function implementing a Linear Search Algorithm. A linear search is a method for finding an element within a list. It sequentially checks each element of the list until a match is found or the whole list has been searched. If you do not find a match, return -1"
   ]
  },
  {
   "cell_type": "code",
   "execution_count": 3,
   "id": "38f49f21",
   "metadata": {},
   "outputs": [],
   "source": [
    "nums_list = [10,23,45,70,11,15]\n",
    "target = 70"
   ]
  },
  {
   "cell_type": "code",
   "execution_count": 36,
   "id": "4112391a",
   "metadata": {},
   "outputs": [
    {
     "data": {
      "text/plain": [
       "70"
      ]
     },
     "execution_count": 36,
     "metadata": {},
     "output_type": "execute_result"
    }
   ],
   "source": [
    "def linsearch(lst,target):\n",
    "    \n",
    "    for item in lst:\n",
    "        if target == item:\n",
    "            return item\n",
    "    else:\n",
    "        return -1\n",
    "    \n",
    "linsearch(nums_list,target)\n",
    "    \n",
    "    \n",
    "    "
   ]
  },
  {
   "cell_type": "code",
   "execution_count": null,
   "id": "078e5956",
   "metadata": {},
   "outputs": [],
   "source": []
  }
 ],
 "metadata": {
  "kernelspec": {
   "display_name": "Python 3 (ipykernel)",
   "language": "python",
   "name": "python3"
  },
  "language_info": {
   "codemirror_mode": {
    "name": "ipython",
    "version": 3
   },
   "file_extension": ".py",
   "mimetype": "text/x-python",
   "name": "python",
   "nbconvert_exporter": "python",
   "pygments_lexer": "ipython3",
   "version": "3.9.13"
  }
 },
 "nbformat": 4,
 "nbformat_minor": 5
}
